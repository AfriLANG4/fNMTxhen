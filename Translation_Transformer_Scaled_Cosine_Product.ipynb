{
  "nbformat": 4,
  "nbformat_minor": 0,
  "metadata": {
    "colab": {
      "name": "Translation_Transformer_Scaled_Cosine_Product.ipynb",
      "provenance": [],
      "collapsed_sections": [],
      "mount_file_id": "1zEQ8g00Hjlgc6hMYs9Rz_4BXuLytyggG",
      "authorship_tag": "ABX9TyOS4376VkzRZK380azo5wC2",
      "include_colab_link": true
    },
    "kernelspec": {
      "name": "python3",
      "display_name": "Python 3"
    },
    "accelerator": "GPU"
  },
  "cells": [
    {
      "cell_type": "markdown",
      "metadata": {
        "id": "view-in-github",
        "colab_type": "text"
      },
      "source": [
        "<a href=\"https://colab.research.google.com/github/AfriLANG4/fNMTxhen/blob/master/Translation_Transformer_Scaled_Cosine_Product.ipynb\" target=\"_parent\"><img src=\"https://colab.research.google.com/assets/colab-badge.svg\" alt=\"Open In Colab\"/></a>"
      ]
    },
    {
      "cell_type": "code",
      "metadata": {
        "id": "TmdF4LT0oOfh",
        "colab_type": "code",
        "outputId": "c162cb91-9528-4953-f218-4014d8605258",
        "colab": {
          "base_uri": "https://localhost:8080/",
          "height": 54
        }
      },
      "source": [
        "!curl -s https://course.fast.ai/setup/colab | bash\n",
        "from fastai.text import *\n"
      ],
      "execution_count": 1,
      "outputs": [
        {
          "output_type": "stream",
          "text": [
            "Updating fastai...\n",
            "Done.\n"
          ],
          "name": "stdout"
        }
      ]
    },
    {
      "cell_type": "code",
      "metadata": {
        "id": "jW7ewsjxqQvV",
        "colab_type": "code",
        "colab": {}
      },
      "source": [
        "max_word_count = 40\n",
        "def seq2seq_collate(samples:BatchSamples, pad_idx:int=1, pad_first:bool=True, backwards:bool=False) -> Tuple[LongTensor, LongTensor]:\n",
        "    \"Function that collect samples and adds padding. Flips token order if needed\"\n",
        "    samples = to_data(samples)\n",
        "    max_len_x,max_len_y = max([len(s[0]) for s in samples]),max([len(s[1]) for s in samples])\n",
        "    res_x = torch.zeros(len(samples), max_len_x).long() + pad_idx\n",
        "    res_y = torch.zeros(len(samples), max_len_y).long() + pad_idx\n",
        "    if backwards: pad_first = not pad_first\n",
        "    for i,s in enumerate(samples):\n",
        "        if pad_first: \n",
        "            res_x[i,-len(s[0]):],res_y[i,-len(s[1]):] = LongTensor(s[0]),LongTensor(s[1])\n",
        "        else:         \n",
        "            res_x[i,:len(s[0]):],res_y[i,:len(s[1]):] = LongTensor(s[0]),LongTensor(s[1])\n",
        "    if backwards: res_x,res_y = res_x.flip(1),res_y.flip(1)\n",
        "    return res_x, res_y\n",
        "\n",
        "class Seq2SeqDataBunch(TextDataBunch):\n",
        "    \"Create a `TextDataBunch` suitable for training an RNN classifier.\"\n",
        "    @classmethod\n",
        "    def create(cls, train_ds, valid_ds, test_ds=None, path:PathOrStr='.', bs:int=32, val_bs:int=None, pad_idx=1,\n",
        "               pad_first=False, device:torch.device=None, no_check:bool=False, backwards:bool=False, **dl_kwargs) -> DataBunch:\n",
        "        \"Function that transform the `datasets` in a `DataBunch` for classification. Passes `**dl_kwargs` on to `DataLoader()`\"\n",
        "        datasets = cls._init_ds(train_ds, valid_ds, test_ds)\n",
        "        val_bs = ifnone(val_bs, bs)\n",
        "        collate_fn = partial(seq2seq_collate, pad_idx=pad_idx, pad_first=pad_first, backwards=backwards)\n",
        "        train_sampler = SortishSampler(datasets[0].x, key=lambda t: len(datasets[0][t][0].data), bs=bs//2)\n",
        "        cp_args = dict(dl_kwargs)\n",
        "        del cp_args['dl_tfms']\n",
        "        train_dl = DataLoader(datasets[0], batch_size=bs, sampler=train_sampler, drop_last=True, **cp_args)\n",
        "        dataloaders = [train_dl]\n",
        "        for ds in datasets[1:]:\n",
        "            lengths = [len(t) for t in ds.x.items]\n",
        "            sampler = SortSampler(ds.x, key=lengths.__getitem__)\n",
        "            dataloaders.append(DataLoader(ds, batch_size=val_bs, sampler=sampler, **cp_args))\n",
        "        return cls(*dataloaders, path=path, device=device, collate_fn=collate_fn, no_check=no_check)\n",
        "    \n",
        "\n",
        "class Seq2SeqTextList(TextList):\n",
        "    _bunch = Seq2SeqDataBunch\n",
        "    _label_cls = TextList\n",
        "    \n",
        "def shift_tfm(b):\n",
        "    x,y = b\n",
        "    y = F.pad(y, (1, 0), value=1)\n",
        "    return [x,y[:,:-1]], y[:,1:]\n",
        "    \n",
        "    \n",
        "class PositionalEncoding(nn.Module):\n",
        "    \"Encode the position with a sinusoid.\"\n",
        "    def __init__(self, d:int):\n",
        "        super().__init__()\n",
        "        self.register_buffer('freq', 1 / (10000 ** (torch.arange(0., d, 2.)/d)))\n",
        "    \n",
        "    def forward(self, pos:Tensor):\n",
        "        inp = torch.ger(pos, self.freq)\n",
        "        enc = torch.cat([inp.sin(), inp.cos()], dim=-1)\n",
        "        return enc\n",
        "    \n",
        "class TransformerEmbedding(nn.Module):\n",
        "    \"Embedding + positional encoding + dropout\"\n",
        "    def __init__(self, vocab_sz:int, emb_sz:int, inp_p:float=0.):\n",
        "        super().__init__()\n",
        "        self.emb_sz = emb_sz\n",
        "        self.embed = embedding(vocab_sz, emb_sz)\n",
        "        self.pos_enc = PositionalEncoding(emb_sz)\n",
        "        self.drop = nn.Dropout(inp_p)\n",
        "    \n",
        "    def forward(self, inp): \n",
        "        pos = torch.arange(0, inp.size(1), device=inp.device).float()\n",
        "        return self.drop(self.embed(inp) * math.sqrt(self.emb_sz) + self.pos_enc(pos))\n",
        "    \n",
        "def feed_forward(d_model:int, d_ff:int, ff_p:float=0., double_drop:bool=True):\n",
        "    layers = [nn.Linear(d_model, d_ff), nn.ReLU()]\n",
        "    if double_drop: layers.append(nn.Dropout(ff_p))\n",
        "    return SequentialEx(*layers, nn.Linear(d_ff, d_model), nn.Dropout(ff_p), MergeLayer(), nn.LayerNorm(d_model))\n",
        "\n",
        "\n",
        "def scaling_factor(query_size):\n",
        "    return np.log2((query_size**2) - query_size)\n",
        "\n",
        "\n",
        "class MultiHeadAttention(nn.Module):\n",
        "    \"MutiHeadAttention.\"\n",
        "    \n",
        "    def __init__(self, n_heads:int, d_model:int, d_head:int=None, resid_p:float=0., attn_p:float=0., bias:bool=True,\n",
        "                 scale:bool=True,  max_word_count = max_word_count, attn_mode='dot'):\n",
        "        super().__init__()\n",
        "        d_head = ifnone(d_head, d_model//n_heads)\n",
        "        self.n_heads,self.d_head,self.scale = n_heads,d_head,scale\n",
        "        self.q_wgt = nn.Linear(d_model, n_heads * d_head, bias=bias)\n",
        "        self.k_wgt = nn.Linear(d_model, n_heads * d_head, bias=bias)\n",
        "        self.v_wgt = nn.Linear(d_model, n_heads * d_head, bias=bias)\n",
        "        self.out = nn.Linear(n_heads * d_head, d_model, bias=bias)\n",
        "        self.drop_att,self.drop_res = nn.Dropout(attn_p),nn.Dropout(resid_p)\n",
        "        self.ln = nn.LayerNorm(d_model)\n",
        "        self.max_word_count = max_word_count\n",
        "        self.attn_mode = attn_mode\n",
        "        \n",
        "    def forward(self, q:Tensor, k:Tensor, v:Tensor, mask:Tensor=None):\n",
        "        return self.ln(q + self.drop_res(self.out(self._apply_attention(q, k, v, mask=mask))))\n",
        "    \n",
        "    def _apply_attention(self, q:Tensor, k:Tensor, v:Tensor, mask:Tensor=None):\n",
        "        bs,seq_len = q.size(0),q.size(1)\n",
        "        wq,wk,wv = self.q_wgt(q),self.k_wgt(k),self.v_wgt(v)\n",
        "        wq,wk,wv = map(lambda x:x.view(bs, x.size(1), self.n_heads, self.d_head), (wq,wk,wv))\n",
        "        wq,wk,wv = wq.permute(0, 2, 1, 3),wk.permute(0, 2, 3, 1),wv.permute(0, 2, 1, 3)\n",
        "        if self.attn_mode == 'cosine':\n",
        "            wq = F.normalize(wq, p=2, dim=-1)\n",
        "            wk = F.normalize(wk, p=2, dim=-1)\n",
        "            attn_score = torch.matmul(wq, wk)\n",
        "            if self.scale: attn_score = attn_score.mul_(scaling_factor(self.max_word_count)) \n",
        "        elif self.attn_mode =='dot':\n",
        "            attn_score = torch.matmul(wq, wk)\n",
        "            if self.scale: attn_score = attn_score.div_(self.d_head ** 0.5)\n",
        "        else:\n",
        "            raise Exception('attn_mode must be specified')\n",
        "        if mask is not None: \n",
        "            attn_score = attn_score.float().masked_fill(mask, -float('inf')).type_as(attn_score)\n",
        "        attn_prob = self.drop_att(F.softmax(attn_score, dim=-1))\n",
        "        attn_vec = torch.matmul(attn_prob, wv)\n",
        "        return attn_vec.permute(0, 2, 1, 3).contiguous().contiguous().view(bs, seq_len, -1)\n",
        "        \n",
        "    def _attention_einsum(self, q:Tensor, k:Tensor, v:Tensor, mask:Tensor=None):\n",
        "        # Permute and matmul is a little bit faster but this implementation is more readable\n",
        "        bs,seq_len = q.size(0),q.size(1)\n",
        "        wq,wk,wv = self.q_wgt(q),self.k_wgt(k),self.v_wgt(v)\n",
        "        wq,wk,wv = map(lambda x:x.view(bs, x.size(1), self.n_heads, self.d_head), (wq,wk,wv))\n",
        "\n",
        "        if self.attn_mode == 'cosine':\n",
        "            wq = F.normalize(wq, p=2, dim=-1)\n",
        "            wk = F.normalize(wk, p=2, dim=-1)\n",
        "            attn_score = torch.einsum('bind,bjnd->bijn', (wq, wk))\n",
        "            if self.scale: attn_score = attn_score.mul_(scaling_factor(max_word_count))\n",
        "\n",
        "        elif self.attn_mode =='dot':\n",
        "            attn_score = torch.einsum('bind,bjnd->bijn', (wq, wk))\n",
        "            if self.scale: attn_score = attn_score.mul_(1/(self.d_head ** 0.5))\n",
        "        else:\n",
        "            raise Exception('attn_mode must be specified')\n",
        "        if mask is not None: \n",
        "            attn_score = attn_score.float().masked_fill(mask, -float('inf')).type_as(attn_score)\n",
        "        attn_prob = self.drop_att(F.softmax(attn_score, dim=2))\n",
        "        attn_vec = torch.einsum('bijn,bjnd->bind', (attn_prob, wv))\n",
        "        return attn_vec.contiguous().view(bs, seq_len, -1)\n",
        "    \n",
        "def get_padding_mask(inp, pad_idx:int=1):\n",
        "    return None\n",
        "    return (inp == pad_idx)[:,None,:,None]\n",
        "\n",
        "def get_output_mask(inp, pad_idx:int=1):\n",
        "    return torch.triu(inp.new_ones(inp.size(1),inp.size(1)), diagonal=1)[None,None].bool()\n",
        "    return ((inp == pad_idx)[:,None,:,None].long() + torch.triu(inp.new_ones(inp.size(1),inp.size(1)), diagonal=1)[None,None] != 0)\n",
        "\n",
        "class EncoderBlock(nn.Module):\n",
        "    \"Encoder block of a Transformer model.\"\n",
        "    #Can't use Sequential directly cause more than one input...\n",
        "    def __init__(self, n_heads:int, d_model:int, d_head:int, d_inner:int, resid_p:float=0., attn_p:float=0., ff_p:float=0.,\n",
        "                 bias:bool=True, scale:bool=True, double_drop:bool=True, max_word_count = max_word_count, attn_mode='dot'):\n",
        "        super().__init__()\n",
        "        self.mha = MultiHeadAttention(n_heads, d_model, d_head, resid_p=resid_p, attn_p=attn_p, bias=bias, scale=scale,\n",
        "                                     max_word_count = max_word_count, attn_mode=attn_mode)\n",
        "        self.ff  = feed_forward(d_model, d_inner, ff_p=ff_p, double_drop=double_drop)\n",
        "    \n",
        "    def forward(self, x:Tensor, mask:Tensor=None): return self.ff(self.mha(x, x, x, mask=mask))\n",
        "\n",
        "class DecoderBlock(nn.Module):\n",
        "    \"Decoder block of a Transformer model.\"\n",
        "    #Can't use Sequential directly cause more than one input...\n",
        "    def __init__(self, n_heads:int, d_model:int, d_head:int, d_inner:int, resid_p:float=0., attn_p:float=0., ff_p:float=0.,\n",
        "                 bias:bool=True, scale:bool=True, double_drop:bool=True, max_word_count = max_word_count, attn_mode='dot'):\n",
        "        super().__init__()\n",
        "        self.mha1 = MultiHeadAttention(n_heads, d_model, d_head, resid_p=resid_p, attn_p=attn_p, bias=bias, scale=scale, \n",
        "                                       max_word_count = max_word_count, attn_mode=attn_mode)\n",
        "        self.mha2 = MultiHeadAttention(n_heads, d_model, d_head, resid_p=resid_p, attn_p=attn_p, bias=bias, scale=scale,\n",
        "                                      max_word_count = max_word_count, attn_mode=attn_mode)\n",
        "        self.ff   = feed_forward(d_model, d_inner, ff_p=ff_p, double_drop=double_drop)\n",
        "    \n",
        "    def forward(self, x:Tensor, enc:Tensor, mask_in:Tensor=None, mask_out:Tensor=None): \n",
        "        y = self.mha1(x, x, x, mask_out)\n",
        "        return self.ff(self.mha2(y, enc, enc, mask=mask_in))\n",
        "    \n",
        "class Transformer(nn.Module):\n",
        "    \"Transformer model\"\n",
        "    \n",
        "    def __init__(self, inp_vsz:int, out_vsz:int, n_layers:int=6, n_heads:int=8, d_model:int=256, d_head:int=32, \n",
        "                 d_inner:int=1024, inp_p:float=0.1, resid_p:float=0.1, attn_p:float=0.1, ff_p:float=0.1, bias:bool=True, \n",
        "                 scale:bool=True, double_drop:bool=True, pad_idx:int=1, max_word_count = max_word_count, attn_mode='dot'):\n",
        "        super().__init__()\n",
        "        self.enc_emb = TransformerEmbedding(inp_vsz, d_model, inp_p)\n",
        "        self.dec_emb = TransformerEmbedding(out_vsz, d_model, 0.)\n",
        "        self.encoder = nn.ModuleList([EncoderBlock(n_heads, d_model, d_head, d_inner, resid_p, attn_p, \n",
        "                                                   ff_p, bias, scale, double_drop, max_word_count, attn_mode) for _ in range(n_layers)])\n",
        "        self.decoder = nn.ModuleList([DecoderBlock(n_heads, d_model, d_head, d_inner, resid_p, attn_p, \n",
        "                                                   ff_p, bias, scale, double_drop, max_word_count, attn_mode) for _ in range(n_layers)])\n",
        "        self.out = nn.Linear(d_model, out_vsz)\n",
        "        self.out.weight = self.dec_emb.embed.weight\n",
        "        self.pad_idx = pad_idx\n",
        "        \n",
        "    def forward(self, inp, out):\n",
        "        mask_in  = get_padding_mask(inp, self.pad_idx)\n",
        "        mask_out = get_output_mask (out, self.pad_idx)\n",
        "        enc,out = self.enc_emb(inp),self.dec_emb(out)\n",
        "        for enc_block in self.encoder: enc = enc_block(enc, mask_in)\n",
        "        for dec_block in self.decoder: out = dec_block(out, enc, mask_in, mask_out)\n",
        "        return self.out(out)\n",
        "    \n",
        "class NGram():\n",
        "    def __init__(self, ngram, max_n=5000): self.ngram,self.max_n = ngram,max_n\n",
        "    def __eq__(self, other):\n",
        "        if len(self.ngram) != len(other.ngram): return False\n",
        "        return np.all(np.array(self.ngram) == np.array(other.ngram))\n",
        "    def __hash__(self): return int(sum([o * self.max_n**i for i,o in enumerate(self.ngram)]))\n",
        "\n",
        "def get_grams(x, n, max_n=5000):\n",
        "    return x if n==1 else [NGram(x[i:i+n], max_n=max_n) for i in range(len(x)-n+1)]\n",
        "\n",
        "def get_correct_ngrams(pred, targ, n, max_n=5000):\n",
        "    pred_grams,targ_grams = get_grams(pred, n, max_n=max_n),get_grams(targ, n, max_n=max_n)\n",
        "    pred_cnt,targ_cnt = Counter(pred_grams),Counter(targ_grams)\n",
        "    return sum([min(c, targ_cnt[g]) for g,c in pred_cnt.items()]),len(pred_grams)\n",
        "\n",
        "class CorpusBLEU(Callback):\n",
        "    def __init__(self, vocab_sz):\n",
        "        self.vocab_sz = vocab_sz\n",
        "        self.name = 'bleu'\n",
        "    \n",
        "    def on_epoch_begin(self, **kwargs):\n",
        "        self.pred_len,self.targ_len,self.corrects,self.counts = 0,0,[0]*4,[0]*4\n",
        "    \n",
        "    def on_batch_end(self, last_output, last_target, **kwargs):\n",
        "        last_output = last_output.argmax(dim=-1)\n",
        "        for pred,targ in zip(last_output.cpu().numpy(),last_target.cpu().numpy()):\n",
        "            self.pred_len += len(pred)\n",
        "            self.targ_len += len(targ)\n",
        "            for i in range(4):\n",
        "                c,t = get_correct_ngrams(pred, targ, i+1, max_n=self.vocab_sz)\n",
        "                self.corrects[i] += c\n",
        "                self.counts[i]   += t\n",
        "    \n",
        "    def on_epoch_end(self, last_metrics, **kwargs):\n",
        "        precs = [c/t for c,t in zip(self.corrects,self.counts)]\n",
        "        len_penalty = exp(1 - self.targ_len/self.pred_len) if self.pred_len < self.targ_len else 1\n",
        "        bleu = len_penalty * ((precs[0]*precs[1]*precs[2]*precs[3]) ** 0.25)\n",
        "        return add_metrics(last_metrics, bleu)\n",
        "\n",
        "def get_predictions(learn, ds_type=DatasetType.Valid):\n",
        "    learn.model.eval()\n",
        "    inputs, targets, outputs = [],[],[]\n",
        "    with torch.no_grad():\n",
        "        for xb,yb in progress_bar(learn.dl(ds_type)):\n",
        "            out = learn.model(*xb)\n",
        "            for x,y,z in zip(xb[0].cpu(),xb[1].cpu(),out.cpu()):\n",
        "                inputs.append(learn.data.train_ds.x.reconstruct(x))\n",
        "                targets.append(learn.data.train_ds.y.reconstruct(y))\n",
        "                outputs.append(learn.data.train_ds.y.reconstruct(z.argmax(1)))\n",
        "    return inputs, targets, outputs"
      ],
      "execution_count": 0,
      "outputs": []
    },
    {
      "cell_type": "code",
      "metadata": {
        "id": "Abjk7gGXm8JI",
        "colab_type": "code",
        "outputId": "a0bed066-1eb2-4a16-a017-eba68e7c7798",
        "colab": {
          "base_uri": "https://localhost:8080/",
          "height": 36
        }
      },
      "source": [
        "from pathlib import Path\n",
        "from fastai import *\n",
        "path = Path('/content/drive/My Drive/afrilang4/memat/data');path"
      ],
      "execution_count": 3,
      "outputs": [
        {
          "output_type": "execute_result",
          "data": {
            "text/plain": [
              "PosixPath('/content/drive/My Drive/afrilang4/memat/data')"
            ]
          },
          "metadata": {
            "tags": []
          },
          "execution_count": 3
        }
      ]
    },
    {
      "cell_type": "code",
      "metadata": {
        "id": "5MVt60S6nAhe",
        "colab_type": "code",
        "colab": {}
      },
      "source": [
        "data = load_data(path)"
      ],
      "execution_count": 0,
      "outputs": []
    },
    {
      "cell_type": "code",
      "metadata": {
        "id": "lYGJYgPct7KB",
        "colab_type": "code",
        "outputId": "7704f1d3-fcf3-4d85-d528-cf65fc407d97",
        "colab": {
          "base_uri": "https://localhost:8080/",
          "height": 432
        }
      },
      "source": [
        "data.show_batch()"
      ],
      "execution_count": 6,
      "outputs": [
        {
          "output_type": "display_data",
          "data": {
            "text/html": [
              "<table border=\"1\" class=\"dataframe\">\n",
              "  <thead>\n",
              "    <tr style=\"text-align: right;\">\n",
              "      <th>text</th>\n",
              "      <th>target</th>\n",
              "    </tr>\n",
              "  </thead>\n",
              "  <tbody>\n",
              "    <tr>\n",
              "      <td>xxbos xxmaj inqanawa enamandla xxunk indlela emkhenkceni enamandla xxunk xxunk xxunk amabini amawaka ukuya kwikhulu elinamashumi amane amawaka eekilowadzi erhuqa isikhephe esinesinqe esibanzi senkwili xxunk phambili ezinomthamo wobunzima bomthwalo wenqanawa bamakhulu amabini xxunk amahlanu amawaka eetoni ngentambo enkulu ende .</td>\n",
              "      <td>xxbos a powerful ice - breaker with an installed power of xxunk to xxunk kw tows a non - propelled submarine barge having a deadweight capacity of 250,000 tons on a long hawser .</td>\n",
              "    </tr>\n",
              "    <tr>\n",
              "      <td>xxbos xxmaj isigulana xxunk engama-47 ubudala sinesifo xxunk kwethambo lomqolo ngasekunene kumazantsi omqolo nokulinganiselwa kwiqondo lama-40 yaye xxunk zokuphelelwa xxunk amaninzi ezinxulumene nengxaki yokuvaleka okungaqhelekanga komjelo ongundoqo , ukuvaleka komjelo womqolo kunye nokuvaleka komjelo ophakathi kwamathambo omqolo .</td>\n",
              "      <td>xxbos xxmaj the patient is 47 and has a marked xxunk curve in the upper lumbar region measuring 40 degrees with multilevel degenerative changes associated with varying degrees of central stenosis , xxunk stenosis and xxunk foraminal stenosis .</td>\n",
              "    </tr>\n",
              "    <tr>\n",
              "      <td>xxbos 1 . xxmaj isijungqu somthi esibekwe ngaphaya kwamazantsi esikhitshana , ngaphakathi , xxunk ukucinezela inyawo zabo kwisikhitshana xxunk . 2 . xxmaj izijungqu ezinqamlezileyo ezibekwe phakathi kwamacala esikhitshane ukuwagcina ahlukene xa inyusa naxa ibanjwa .</td>\n",
              "      <td>xxbos xxmaj cross pieces placed between a boat 's sides to keep them apart when hoisted up and griped .</td>\n",
              "    </tr>\n",
              "    <tr>\n",
              "      <td>xxbos xxmaj ezi xxunk ezincamathelayo , xxunk xxunk encinci engangeni - manzi , xxunk , imela , itawuli xxunk , xxunk , okanye ezinye xxunk , xxunk xxunk ekanye uhlebe oluthile xxunk neswekile xxunk .</td>\n",
              "      <td>xxbos xxmaj these are adhesive tape , a small watertight xxunk , xxunk , knife , paper towels , xxunk or other xxunk , chocolate bars or xxunk and glucose .</td>\n",
              "    </tr>\n",
              "    <tr>\n",
              "      <td>xxbos xxmaj umzekelo amanye amazibuko enqanawa kwintshona - xxmaj europe abekwe kakuhle xxunk nakho xxunk xxunk ezingundoqo zoshishino , ukuzinzisa kwindawo yamazibuko enqanawa ngokwenza undoqo wozaliso - mali kumaziko akhoyo ukuze umbuso ube nokusebenza .</td>\n",
              "      <td>xxbos xxmaj for example , some xxmaj west xxmaj european ports that are xxunk situated have been able to persuade major industrial concerns to settle in the port area by making major investments in their xxunk .</td>\n",
              "    </tr>\n",
              "  </tbody>\n",
              "</table>"
            ],
            "text/plain": [
              "<IPython.core.display.HTML object>"
            ]
          },
          "metadata": {
            "tags": []
          }
        }
      ]
    },
    {
      "cell_type": "markdown",
      "metadata": {
        "id": "ac7S6bk9Fd5O",
        "colab_type": "text"
      },
      "source": [
        "### Shifting"
      ]
    },
    {
      "cell_type": "code",
      "metadata": {
        "id": "cx5pOvBxFd5Q",
        "colab_type": "code",
        "outputId": "be7744de-24b6-4466-eee9-66d4b154cf3f",
        "colab": {
          "base_uri": "https://localhost:8080/",
          "height": 36
        }
      },
      "source": [
        "v = data.vocab\n",
        "v.stoi['xxpad']"
      ],
      "execution_count": 7,
      "outputs": [
        {
          "output_type": "execute_result",
          "data": {
            "text/plain": [
              "1"
            ]
          },
          "metadata": {
            "tags": []
          },
          "execution_count": 7
        }
      ]
    },
    {
      "cell_type": "code",
      "metadata": {
        "id": "O0DC7rXtFd5d",
        "colab_type": "code",
        "colab": {}
      },
      "source": [
        "def shift_tfm(b):\n",
        "    x,y = b\n",
        "    y = F.pad(y, (1, 0), value=1)\n",
        "    return [x,y[:,:-1]], y[:,1:]"
      ],
      "execution_count": 0,
      "outputs": []
    },
    {
      "cell_type": "code",
      "metadata": {
        "id": "CaifOQ50Fd5k",
        "colab_type": "code",
        "colab": {}
      },
      "source": [
        "data.add_tfm(shift_tfm)"
      ],
      "execution_count": 0,
      "outputs": []
    },
    {
      "cell_type": "markdown",
      "metadata": {
        "id": "h5H4_rczxDAB",
        "colab_type": "text"
      },
      "source": [
        "##Training with **Scaled Cosine Attention**"
      ]
    },
    {
      "cell_type": "code",
      "metadata": {
        "id": "MfbKLKics65T",
        "colab_type": "code",
        "colab": {}
      },
      "source": [
        "max_word_count = 30\n",
        "cos_model = Transformer(len(data.train_ds.x.vocab.itos), len(data.train_ds.y.vocab.itos), d_model=256,\n",
        "                   max_word_count = max_word_count, attn_mode='cosine')\n",
        "\n",
        "### label smoothing does not seem to make a meaningful difference to scaled cosine attention so we omit it\n",
        "learn = Learner(data, cos_model, metrics=[accuracy, CorpusBLEU(len(data.train_ds.y.vocab.itos))], \n",
        "                loss_func = CrossEntropyFlat())"
      ],
      "execution_count": 0,
      "outputs": []
    },
    {
      "cell_type": "code",
      "metadata": {
        "id": "1H1WEqFqDubc",
        "colab_type": "code",
        "colab": {}
      },
      "source": [
        "doc(Transformer)"
      ],
      "execution_count": 0,
      "outputs": []
    },
    {
      "cell_type": "code",
      "metadata": {
        "id": "WnDu58_0tOMT",
        "colab_type": "code",
        "outputId": "60826bf2-8eca-41c3-c2b3-9038f50b5798",
        "colab": {
          "base_uri": "https://localhost:8080/",
          "height": 114
        }
      },
      "source": [
        "learn.lr_find()"
      ],
      "execution_count": 11,
      "outputs": [
        {
          "output_type": "display_data",
          "data": {
            "text/html": [
              "\n",
              "    <div>\n",
              "        <style>\n",
              "            /* Turns off some styling */\n",
              "            progress {\n",
              "                /* gets rid of default border in Firefox and Opera. */\n",
              "                border: none;\n",
              "                /* Needs to be in here for Safari polyfill so background images work as expected. */\n",
              "                background-size: auto;\n",
              "            }\n",
              "            .progress-bar-interrupted, .progress-bar-interrupted::-webkit-progress-bar {\n",
              "                background: #F44336;\n",
              "            }\n",
              "        </style>\n",
              "      <progress value='0' class='' max='1' style='width:300px; height:20px; vertical-align: middle;'></progress>\n",
              "      0.00% [0/1 00:00<00:00]\n",
              "    </div>\n",
              "    \n",
              "<table border=\"1\" class=\"dataframe\">\n",
              "  <thead>\n",
              "    <tr style=\"text-align: left;\">\n",
              "      <th>epoch</th>\n",
              "      <th>train_loss</th>\n",
              "      <th>valid_loss</th>\n",
              "      <th>accuracy</th>\n",
              "      <th>bleu</th>\n",
              "      <th>time</th>\n",
              "    </tr>\n",
              "  </thead>\n",
              "  <tbody>\n",
              "  </tbody>\n",
              "</table><p>\n",
              "\n",
              "    <div>\n",
              "        <style>\n",
              "            /* Turns off some styling */\n",
              "            progress {\n",
              "                /* gets rid of default border in Firefox and Opera. */\n",
              "                border: none;\n",
              "                /* Needs to be in here for Safari polyfill so background images work as expected. */\n",
              "                background-size: auto;\n",
              "            }\n",
              "            .progress-bar-interrupted, .progress-bar-interrupted::-webkit-progress-bar {\n",
              "                background: #F44336;\n",
              "            }\n",
              "        </style>\n",
              "      <progress value='91' class='' max='1785' style='width:300px; height:20px; vertical-align: middle;'></progress>\n",
              "      5.10% [91/1785 00:17<05:29 22.1437]\n",
              "    </div>\n",
              "    "
            ],
            "text/plain": [
              "<IPython.core.display.HTML object>"
            ]
          },
          "metadata": {
            "tags": []
          }
        },
        {
          "output_type": "stream",
          "text": [
            "LR Finder is complete, type {learner_name}.recorder.plot() to see the graph.\n"
          ],
          "name": "stdout"
        }
      ]
    },
    {
      "cell_type": "code",
      "metadata": {
        "id": "-q2l1Y-Tt3yY",
        "colab_type": "code",
        "outputId": "0e58171b-3c9c-4fd7-a5a6-02aa2ed7758c",
        "colab": {
          "base_uri": "https://localhost:8080/",
          "height": 279
        }
      },
      "source": [
        "learn.recorder.plot()"
      ],
      "execution_count": 12,
      "outputs": [
        {
          "output_type": "display_data",
          "data": {
            "image/png": "[encoded data removed]",
            "text/plain": [
              "<Figure size 432x288 with 1 Axes>"
            ]
          },
          "metadata": {
            "tags": [],
            "needs_background": "light"
          }
        }
      ]
    },
    {
      "cell_type": "markdown",
      "metadata": {
        "id": "DRVSLizVkh4Z",
        "colab_type": "text"
      },
      "source": [
        "**bold text**###Train"
      ]
    },
    {
      "cell_type": "code",
      "metadata": {
        "id": "hIAt2CRbt5L_",
        "colab_type": "code",
        "outputId": "51d3351e-f809-4086-cfba-ca82ae7bea10",
        "colab": {
          "base_uri": "https://localhost:8080/",
          "height": 334
        }
      },
      "source": [
        "learn.fit_one_cycle(8, 5e-4, div_factor=5)"
      ],
      "execution_count": 13,
      "outputs": [
        {
          "output_type": "display_data",
          "data": {
            "text/html": [
              "\n",
              "    <div>\n",
              "        <style>\n",
              "            /* Turns off some styling */\n",
              "            progress {\n",
              "                /* gets rid of default border in Firefox and Opera. */\n",
              "                border: none;\n",
              "                /* Needs to be in here for Safari polyfill so background images work as expected. */\n",
              "                background-size: auto;\n",
              "            }\n",
              "            .progress-bar-interrupted, .progress-bar-interrupted::-webkit-progress-bar {\n",
              "                background: #F44336;\n",
              "            }\n",
              "        </style>\n",
              "      <progress value='7' class='' max='8' style='width:300px; height:20px; vertical-align: middle;'></progress>\n",
              "      87.50% [7/8 40:31<05:47]\n",
              "    </div>\n",
              "    \n",
              "<table border=\"1\" class=\"dataframe\">\n",
              "  <thead>\n",
              "    <tr style=\"text-align: left;\">\n",
              "      <th>epoch</th>\n",
              "      <th>train_loss</th>\n",
              "      <th>valid_loss</th>\n",
              "      <th>accuracy</th>\n",
              "      <th>bleu</th>\n",
              "      <th>time</th>\n",
              "    </tr>\n",
              "  </thead>\n",
              "  <tbody>\n",
              "    <tr>\n",
              "      <td>0</td>\n",
              "      <td>2.014753</td>\n",
              "      <td>2.015110</td>\n",
              "      <td>0.686046</td>\n",
              "      <td>0.490207</td>\n",
              "      <td>05:45</td>\n",
              "    </tr>\n",
              "    <tr>\n",
              "      <td>1</td>\n",
              "      <td>1.272010</td>\n",
              "      <td>1.242527</td>\n",
              "      <td>0.787423</td>\n",
              "      <td>0.572212</td>\n",
              "      <td>05:40</td>\n",
              "    </tr>\n",
              "    <tr>\n",
              "      <td>2</td>\n",
              "      <td>0.773901</td>\n",
              "      <td>0.707492</td>\n",
              "      <td>0.872055</td>\n",
              "      <td>0.694512</td>\n",
              "      <td>05:45</td>\n",
              "    </tr>\n",
              "    <tr>\n",
              "      <td>3</td>\n",
              "      <td>0.515184</td>\n",
              "      <td>0.446711</td>\n",
              "      <td>0.919250</td>\n",
              "      <td>0.787786</td>\n",
              "      <td>05:51</td>\n",
              "    </tr>\n",
              "    <tr>\n",
              "      <td>4</td>\n",
              "      <td>0.388626</td>\n",
              "      <td>0.272518</td>\n",
              "      <td>0.954171</td>\n",
              "      <td>0.872141</td>\n",
              "      <td>05:47</td>\n",
              "    </tr>\n",
              "    <tr>\n",
              "      <td>5</td>\n",
              "      <td>0.240096</td>\n",
              "      <td>0.202539</td>\n",
              "      <td>0.968603</td>\n",
              "      <td>0.910192</td>\n",
              "      <td>05:53</td>\n",
              "    </tr>\n",
              "    <tr>\n",
              "      <td>6</td>\n",
              "      <td>0.185306</td>\n",
              "      <td>0.173153</td>\n",
              "      <td>0.975078</td>\n",
              "      <td>0.928544</td>\n",
              "      <td>05:47</td>\n",
              "    </tr>\n",
              "  </tbody>\n",
              "</table><p>\n",
              "\n",
              "    <div>\n",
              "        <style>\n",
              "            /* Turns off some styling */\n",
              "            progress {\n",
              "                /* gets rid of default border in Firefox and Opera. */\n",
              "                border: none;\n",
              "                /* Needs to be in here for Safari polyfill so background images work as expected. */\n",
              "                background-size: auto;\n",
              "            }\n",
              "            .progress-bar-interrupted, .progress-bar-interrupted::-webkit-progress-bar {\n",
              "                background: #F44336;\n",
              "            }\n",
              "        </style>\n",
              "      <progress value='1294' class='' max='1785' style='width:300px; height:20px; vertical-align: middle;'></progress>\n",
              "      72.49% [1294/1785 03:20<01:16 0.1789]\n",
              "    </div>\n",
              "    "
            ],
            "text/plain": [
              "<IPython.core.display.HTML object>"
            ]
          },
          "metadata": {
            "tags": []
          }
        },
        {
          "output_type": "stream",
          "text": [
            "Buffered data was truncated after reaching the output size limit."
          ],
          "name": "stdout"
        }
      ]
    },
    {
      "cell_type": "code",
      "metadata": {
        "id": "R-iN9vO-ugNC",
        "colab_type": "code",
        "colab": {}
      },
      "source": [
        "learn.save(path/'transformer_co1')"
      ],
      "execution_count": 0,
      "outputs": []
    },
    {
      "cell_type": "code",
      "metadata": {
        "id": "j2nlKjvzegv-",
        "colab_type": "code",
        "outputId": "2a5ccf68-8e4b-45f9-ebf5-89303b11c331",
        "colab": {
          "base_uri": "https://localhost:8080/",
          "height": 279
        }
      },
      "source": [
        "learn.recorder.plot_losses()"
      ],
      "execution_count": 15,
      "outputs": [
        {
          "output_type": "display_data",
          "data": {
            "image/png": "[encoded data removed]",
            "text/plain": [
              "<Figure size 432x288 with 1 Axes>"
            ]
          },
          "metadata": {
            "tags": [],
            "needs_background": "light"
          }
        }
      ]
    },
    {
      "cell_type": "code",
      "metadata": {
        "id": "3Mfsz0TwuanD",
        "colab_type": "code",
        "outputId": "094ad548-a685-477d-af30-f0fc93422920",
        "colab": {
          "base_uri": "https://localhost:8080/",
          "height": 37
        }
      },
      "source": [
        "inputs, targets, outputs = get_predictions(learn)"
      ],
      "execution_count": 16,
      "outputs": [
        {
          "output_type": "display_data",
          "data": {
            "text/html": [
              "\n",
              "    <div>\n",
              "        <style>\n",
              "            /* Turns off some styling */\n",
              "            progress {\n",
              "                /* gets rid of default border in Firefox and Opera. */\n",
              "                border: none;\n",
              "                /* Needs to be in here for Safari polyfill so background images work as expected. */\n",
              "                background-size: auto;\n",
              "            }\n",
              "            .progress-bar-interrupted, .progress-bar-interrupted::-webkit-progress-bar {\n",
              "                background: #F44336;\n",
              "            }\n",
              "        </style>\n",
              "      <progress value='446' class='' max='446' style='width:300px; height:20px; vertical-align: middle;'></progress>\n",
              "      100.00% [446/446 00:59<00:00]\n",
              "    </div>\n",
              "    "
            ],
            "text/plain": [
              "<IPython.core.display.HTML object>"
            ]
          },
          "metadata": {
            "tags": []
          }
        }
      ]
    },
    {
      "cell_type": "code",
      "metadata": {
        "id": "X9mR2-Gwx2c7",
        "colab_type": "code",
        "outputId": "b970df72-cc83-4d0c-aaf0-96f396d2622a",
        "colab": {
          "base_uri": "https://localhost:8080/",
          "height": 337
        }
      },
      "source": [
        "print(inputs[10],'\\n',targets[10],'\\n',outputs[10],'\\n')\n",
        "print(inputs[700],'\\n',targets[700],'\\n',outputs[700],'\\n')\n",
        "# print(inputs[701],'\\n',targets[701],'\\n',outputs[701]),'\\n')\n",
        "print(inputs[2500],'\\n',targets[2500],'\\n',outputs[2500],'\\n')\n",
        "print(inputs[4002],'\\n',targets[4002],'\\n',outputs[4002],'\\n')"
      ],
      "execution_count": 17,
      "outputs": [
        {
          "output_type": "stream",
          "text": [
            "xxbos xxmaj amanzi , ingakumbi amanzi xxunk , xxunk umbane , kwaye ukuba athe adibana nesixhobo zikanomathotholo isixhobo sokunqanda umbane xxunk xxunk kwaye xxunk eziphezulu xxunk , nto leyo enokuthi ibangele umlilo kunye nomonakalo omandundu kuzo zonke izixhobo . \n",
            " xxbos xxmaj water , especially salt water , conducts electricity , and if it reaches radio equipment the insulators will be rendered useless and the high voltages will flash over , causing burning and serious damage throughout the equipment \n",
            " xxbos xxmaj water , especially salt water , trunking electricity , and if the covers radio equipment the lifejacket will be provided concrete and the actual beacon will float on , causing burning and serious damage throughout the equipment . \n",
            "\n",
            "xxbos amakaledi athetha ke kukumkani xxunk , athi , xxmaj kumkani , yidla ubomi ngonaphakade ! xxmaj xxunk abakhonzi bakho iphupha elo ; xxunk ukutyhilwa kwalo . \n",
            " xxbos xxmaj then spoke the xxmaj chaldeans to the king in the xxmaj syrian language , o king , live forever : tell your servants the dream , and we will show the interpretation . \n",
            " xxbos xxmaj then spoke the xxmaj chaldeans to the king in the xxmaj levites xxmaj , o king , live forever ! tell your servants the dream , and we will show the interpretation . \n",
            "\n",
            "xxbos xxmaj babefuna abasebenzi abangamakhulu mane anamashumi asixhenxe ( 470 ) kuthelekiswa namakhulu amabini anamashumi amathandathu ( 260 ) ezangoku xxunk . \n",
            " xxbos xxmaj they needed a crew of xxunk compared with the 260 of the later xxmaj leanders . \n",
            " xxbos xxmaj they needed a crew of xxunk compared with the equivalent of the later xxmaj orions . \n",
            "\n",
            "xxbos xxmaj abathe , xxmaj ulwimi lwethu xxunk ; xxmaj imilomo yethu xxunk ; ngubani na xxunk kuthi ? \n",
            " xxbos who have said , \" xxmaj with our tongue we will prevail . xxmaj our lips are our own . xxmaj who is lord over us ? \" \n",
            " xxbos who have said , \" xxmaj with our tongue we will be . xxmaj our lips are our own . xxmaj who is over over us ? \" \n",
            "\n"
          ],
          "name": "stdout"
        }
      ]
    }
  ]
}
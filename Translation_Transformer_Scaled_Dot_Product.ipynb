{
  "nbformat": 4,
  "nbformat_minor": 0,
  "metadata": {
    "colab": {
      "name": "Translation_Transformer_Scaled_Dot_Product.ipynb",
      "provenance": [],
      "collapsed_sections": [],
      "mount_file_id": "11wnzCnHGK0oJef51Qy3ifBhV-ODNbYHT",
      "authorship_tag": "ABX9TyPpoc3X2JG9QkE4q+UYxq6e",
      "include_colab_link": true
    },
    "kernelspec": {
      "name": "python3",
      "display_name": "Python 3"
    },
    "accelerator": "GPU"
  },
  "cells": [
    {
      "cell_type": "markdown",
      "metadata": {
        "id": "view-in-github",
        "colab_type": "text"
      },
      "source": [
        "<a href=\"https://colab.research.google.com/github/AfriLANG4/fNMTxhen/blob/master/Translation_Transformer_Scaled_Dot_Product.ipynb\" target=\"_parent\"><img src=\"https://colab.research.google.com/assets/colab-badge.svg\" alt=\"Open In Colab\"/></a>"
      ]
    },
    {
      "cell_type": "markdown",
      "metadata": {
        "id": "Y5ComgCgciHK",
        "colab_type": "text"
      },
      "source": [
        "source:[ fastai / course-nlp ](https://https://github.com/fastai/course-nlp/blob/master/8-translation-transformer.ipynb)\n",
        "\n",
        "source:[CyndxAI](https://github.com/CyndxAI/CyndxAI)"
      ]
    },
    {
      "cell_type": "code",
      "metadata": {
        "id": "TmdF4LT0oOfh",
        "colab_type": "code",
        "outputId": "f4f17b33-e9ea-439c-b871-0ef64ab6e8ac",
        "colab": {
          "base_uri": "https://localhost:8080/",
          "height": 54
        }
      },
      "source": [
        "!curl -s https://course.fast.ai/setup/colab | bash\n",
        "from fastai.text import *\n"
      ],
      "execution_count": 0,
      "outputs": [
        {
          "output_type": "stream",
          "text": [
            "Updating fastai...\n",
            "Done.\n"
          ],
          "name": "stdout"
        }
      ]
    },
    {
      "cell_type": "code",
      "metadata": {
        "id": "jW7ewsjxqQvV",
        "colab_type": "code",
        "colab": {}
      },
      "source": [
        "max_word_count = 40\n",
        "def seq2seq_collate(samples:BatchSamples, pad_idx:int=1, pad_first:bool=True, backwards:bool=False) -> Tuple[LongTensor, LongTensor]:\n",
        "    \"Function that collect samples and adds padding. Flips token order if needed\"\n",
        "    samples = to_data(samples)\n",
        "    max_len_x,max_len_y = max([len(s[0]) for s in samples]),max([len(s[1]) for s in samples])\n",
        "    res_x = torch.zeros(len(samples), max_len_x).long() + pad_idx\n",
        "    res_y = torch.zeros(len(samples), max_len_y).long() + pad_idx\n",
        "    if backwards: pad_first = not pad_first\n",
        "    for i,s in enumerate(samples):\n",
        "        if pad_first: \n",
        "            res_x[i,-len(s[0]):],res_y[i,-len(s[1]):] = LongTensor(s[0]),LongTensor(s[1])\n",
        "        else:         \n",
        "            res_x[i,:len(s[0]):],res_y[i,:len(s[1]):] = LongTensor(s[0]),LongTensor(s[1])\n",
        "    if backwards: res_x,res_y = res_x.flip(1),res_y.flip(1)\n",
        "    return res_x, res_y\n",
        "\n",
        "class Seq2SeqDataBunch(TextDataBunch):\n",
        "    \"Create a `TextDataBunch` suitable for training an RNN classifier.\"\n",
        "    @classmethod\n",
        "    def create(cls, train_ds, valid_ds, test_ds=None, path:PathOrStr='.', bs:int=32, val_bs:int=None, pad_idx=1,\n",
        "               pad_first=False, device:torch.device=None, no_check:bool=False, backwards:bool=False, **dl_kwargs) -> DataBunch:\n",
        "        \"Function that transform the `datasets` in a `DataBunch` for classification. Passes `**dl_kwargs` on to `DataLoader()`\"\n",
        "        datasets = cls._init_ds(train_ds, valid_ds, test_ds)\n",
        "        val_bs = ifnone(val_bs, bs)\n",
        "        collate_fn = partial(seq2seq_collate, pad_idx=pad_idx, pad_first=pad_first, backwards=backwards)\n",
        "        train_sampler = SortishSampler(datasets[0].x, key=lambda t: len(datasets[0][t][0].data), bs=bs//2)\n",
        "        cp_args = dict(dl_kwargs)\n",
        "        del cp_args['dl_tfms']\n",
        "        train_dl = DataLoader(datasets[0], batch_size=bs, sampler=train_sampler, drop_last=True, **cp_args)\n",
        "        dataloaders = [train_dl]\n",
        "        for ds in datasets[1:]:\n",
        "            lengths = [len(t) for t in ds.x.items]\n",
        "            sampler = SortSampler(ds.x, key=lengths.__getitem__)\n",
        "            dataloaders.append(DataLoader(ds, batch_size=val_bs, sampler=sampler, **cp_args))\n",
        "        return cls(*dataloaders, path=path, device=device, collate_fn=collate_fn, no_check=no_check)\n",
        "    \n",
        "\n",
        "class Seq2SeqTextList(TextList):\n",
        "    _bunch = Seq2SeqDataBunch\n",
        "    _label_cls = TextList\n",
        "    \n",
        "def shift_tfm(b):\n",
        "    x,y = b\n",
        "    y = F.pad(y, (1, 0), value=1)\n",
        "    return [x,y[:,:-1]], y[:,1:]\n",
        "    \n",
        "    \n",
        "class PositionalEncoding(nn.Module):\n",
        "    \"Encode the position with a sinusoid.\"\n",
        "    def __init__(self, d:int):\n",
        "        super().__init__()\n",
        "        self.register_buffer('freq', 1 / (10000 ** (torch.arange(0., d, 2.)/d)))\n",
        "    \n",
        "    def forward(self, pos:Tensor):\n",
        "        inp = torch.ger(pos, self.freq)\n",
        "        enc = torch.cat([inp.sin(), inp.cos()], dim=-1)\n",
        "        return enc\n",
        "    \n",
        "    \n",
        "class TransformerEmbedding(nn.Module):\n",
        "    \"Embedding + positional encoding + dropout\"\n",
        "    def __init__(self, vocab_sz:int, emb_sz:int, inp_p:float=0.):\n",
        "        super().__init__()\n",
        "        self.emb_sz = emb_sz\n",
        "        self.embed = embedding(vocab_sz, emb_sz)\n",
        "        self.pos_enc = PositionalEncoding(emb_sz)\n",
        "        self.drop = nn.Dropout(inp_p)\n",
        "    \n",
        "    def forward(self, inp): \n",
        "        pos = torch.arange(0, inp.size(1), device=inp.device).float()\n",
        "        return self.drop(self.embed(inp) * math.sqrt(self.emb_sz) + self.pos_enc(pos))\n",
        "    \n",
        "def feed_forward(d_model:int, d_ff:int, ff_p:float=0., double_drop:bool=True):\n",
        "    layers = [nn.Linear(d_model, d_ff), nn.ReLU()]\n",
        "    if double_drop: layers.append(nn.Dropout(ff_p))\n",
        "    return SequentialEx(*layers, nn.Linear(d_ff, d_model), nn.Dropout(ff_p), MergeLayer(), nn.LayerNorm(d_model))\n",
        "\n",
        "\n",
        "def scaling_factor(query_size):\n",
        "    return np.log2((query_size**2) - query_size)\n",
        "\n",
        "\n",
        "class MultiHeadAttention(nn.Module):\n",
        "    \"MutiHeadAttention.\"\n",
        "    \n",
        "    def __init__(self, n_heads:int, d_model:int, d_head:int=None, resid_p:float=0., attn_p:float=0., bias:bool=True,\n",
        "                 scale:bool=True,  max_word_count = max_word_count, attn_mode='dot'):\n",
        "        super().__init__()\n",
        "        d_head = ifnone(d_head, d_model//n_heads)\n",
        "        self.n_heads,self.d_head,self.scale = n_heads,d_head,scale\n",
        "        self.q_wgt = nn.Linear(d_model, n_heads * d_head, bias=bias)\n",
        "        self.k_wgt = nn.Linear(d_model, n_heads * d_head, bias=bias)\n",
        "        self.v_wgt = nn.Linear(d_model, n_heads * d_head, bias=bias)\n",
        "        self.out = nn.Linear(n_heads * d_head, d_model, bias=bias)\n",
        "        self.drop_att,self.drop_res = nn.Dropout(attn_p),nn.Dropout(resid_p)\n",
        "        self.ln = nn.LayerNorm(d_model)\n",
        "        self.max_word_count = max_word_count\n",
        "        self.attn_mode = attn_mode\n",
        "        \n",
        "    def forward(self, q:Tensor, k:Tensor, v:Tensor, mask:Tensor=None):\n",
        "        return self.ln(q + self.drop_res(self.out(self._apply_attention(q, k, v, mask=mask))))\n",
        "    \n",
        "    def _apply_attention(self, q:Tensor, k:Tensor, v:Tensor, mask:Tensor=None):\n",
        "        bs,seq_len = q.size(0),q.size(1)\n",
        "        wq,wk,wv = self.q_wgt(q),self.k_wgt(k),self.v_wgt(v)\n",
        "        wq,wk,wv = map(lambda x:x.view(bs, x.size(1), self.n_heads, self.d_head), (wq,wk,wv))\n",
        "        wq,wk,wv = wq.permute(0, 2, 1, 3),wk.permute(0, 2, 3, 1),wv.permute(0, 2, 1, 3)\n",
        "        if self.attn_mode == 'cosine':\n",
        "            wq = F.normalize(wq, p=2, dim=-1)\n",
        "            wk = F.normalize(wk, p=2, dim=-1)\n",
        "            attn_score = torch.matmul(wq, wk)\n",
        "            if self.scale: attn_score = attn_score.mul_(scaling_factor(self.max_word_count)) \n",
        "        elif self.attn_mode =='dot':\n",
        "            attn_score = torch.matmul(wq, wk)\n",
        "            if self.scale: attn_score = attn_score.div_(self.d_head ** 0.5)\n",
        "        else:\n",
        "            raise Exception('attn_mode must be specified')\n",
        "        if mask is not None: \n",
        "            attn_score = attn_score.float().masked_fill(mask, -float('inf')).type_as(attn_score)\n",
        "        attn_prob = self.drop_att(F.softmax(attn_score, dim=-1))\n",
        "        attn_vec = torch.matmul(attn_prob, wv)\n",
        "        return attn_vec.permute(0, 2, 1, 3).contiguous().contiguous().view(bs, seq_len, -1)\n",
        "        \n",
        "    def _attention_einsum(self, q:Tensor, k:Tensor, v:Tensor, mask:Tensor=None):\n",
        "        # Permute and matmul is a little bit faster but this implementation is more readable\n",
        "        bs,seq_len = q.size(0),q.size(1)\n",
        "        wq,wk,wv = self.q_wgt(q),self.k_wgt(k),self.v_wgt(v)\n",
        "        wq,wk,wv = map(lambda x:x.view(bs, x.size(1), self.n_heads, self.d_head), (wq,wk,wv))\n",
        "        if self.attn_mode == 'cosine':\n",
        "            wq = F.normalize(wq, p=2, dim=-1)\n",
        "            wk = F.normalize(wk, p=2, dim=-1)\n",
        "            attn_score = torch.einsum('bind,bjnd->bijn', (wq, wk))\n",
        "            if self.scale: attn_score = attn_score.mul_(scaling_factor(max_word_count))\n",
        "        elif self.attn_mode =='dot':\n",
        "            attn_score = torch.einsum('bind,bjnd->bijn', (wq, wk))\n",
        "            if self.scale: attn_score = attn_score.mul_(1/(self.d_head ** 0.5))\n",
        "        else:\n",
        "            raise Exception('attn_mode must be specified')\n",
        "        if mask is not None: \n",
        "            attn_score = attn_score.float().masked_fill(mask, -float('inf')).type_as(attn_score)\n",
        "        attn_prob = self.drop_att(F.softmax(attn_score, dim=2))\n",
        "        attn_vec = torch.einsum('bijn,bjnd->bind', (attn_prob, wv))\n",
        "        return attn_vec.contiguous().view(bs, seq_len, -1)\n",
        "    \n",
        "def get_padding_mask(inp, pad_idx:int=1):\n",
        "    return None\n",
        "    return (inp == pad_idx)[:,None,:,None]\n",
        "\n",
        "def get_output_mask(inp, pad_idx:int=1):\n",
        "    return torch.triu(inp.new_ones(inp.size(1),inp.size(1)), diagonal=1)[None,None].bool()\n",
        "    return ((inp == pad_idx)[:,None,:,None].long() + torch.triu(inp.new_ones(inp.size(1),inp.size(1)), diagonal=1)[None,None] != 0)\n",
        "\n",
        "class EncoderBlock(nn.Module):\n",
        "    \"Encoder block of a Transformer model.\"\n",
        "    #Can't use Sequential directly cause more than one input...\n",
        "    def __init__(self, n_heads:int, d_model:int, d_head:int, d_inner:int, resid_p:float=0., attn_p:float=0., ff_p:float=0.,\n",
        "                 bias:bool=True, scale:bool=True, double_drop:bool=True, max_word_count = max_word_count, attn_mode='dot'):\n",
        "        super().__init__()\n",
        "        self.mha = MultiHeadAttention(n_heads, d_model, d_head, resid_p=resid_p, attn_p=attn_p, bias=bias, scale=scale,\n",
        "                                     max_word_count = max_word_count, attn_mode=attn_mode)\n",
        "        self.ff  = feed_forward(d_model, d_inner, ff_p=ff_p, double_drop=double_drop)\n",
        "    \n",
        "    def forward(self, x:Tensor, mask:Tensor=None): return self.ff(self.mha(x, x, x, mask=mask))\n",
        "\n",
        "class DecoderBlock(nn.Module):\n",
        "    \"Decoder block of a Transformer model.\"\n",
        "    #Can't use Sequential directly cause more than one input...\n",
        "    def __init__(self, n_heads:int, d_model:int, d_head:int, d_inner:int, resid_p:float=0., attn_p:float=0., ff_p:float=0.,\n",
        "                 bias:bool=True, scale:bool=True, double_drop:bool=True, max_word_count = max_word_count, attn_mode='dot'):\n",
        "        super().__init__()\n",
        "        self.mha1 = MultiHeadAttention(n_heads, d_model, d_head, resid_p=resid_p, attn_p=attn_p, bias=bias, scale=scale, \n",
        "                                       max_word_count = max_word_count, attn_mode=attn_mode)\n",
        "        self.mha2 = MultiHeadAttention(n_heads, d_model, d_head, resid_p=resid_p, attn_p=attn_p, bias=bias, scale=scale,\n",
        "                                      max_word_count = max_word_count, attn_mode=attn_mode)\n",
        "        self.ff   = feed_forward(d_model, d_inner, ff_p=ff_p, double_drop=double_drop)\n",
        "    \n",
        "    def forward(self, x:Tensor, enc:Tensor, mask_in:Tensor=None, mask_out:Tensor=None): \n",
        "        y = self.mha1(x, x, x, mask_out)\n",
        "        return self.ff(self.mha2(y, enc, enc, mask=mask_in))\n",
        "    \n",
        "class Transformer(nn.Module):\n",
        "    \"Transformer model\"\n",
        "    \n",
        "    def __init__(self, inp_vsz:int, out_vsz:int, n_layers:int=6, n_heads:int=8, d_model:int=256, d_head:int=32, \n",
        "                 d_inner:int=1024, inp_p:float=0.1, resid_p:float=0.1, attn_p:float=0.1, ff_p:float=0.1, bias:bool=True, \n",
        "                 scale:bool=True, double_drop:bool=True, pad_idx:int=1, max_word_count = max_word_count, attn_mode='dot'):\n",
        "        super().__init__()\n",
        "        self.enc_emb = TransformerEmbedding(inp_vsz, d_model, inp_p)\n",
        "        self.dec_emb = TransformerEmbedding(out_vsz, d_model, 0.)\n",
        "        self.encoder = nn.ModuleList([EncoderBlock(n_heads, d_model, d_head, d_inner, resid_p, attn_p, \n",
        "                                                   ff_p, bias, scale, double_drop, max_word_count, attn_mode) for _ in range(n_layers)])\n",
        "        self.decoder = nn.ModuleList([DecoderBlock(n_heads, d_model, d_head, d_inner, resid_p, attn_p, \n",
        "                                                   ff_p, bias, scale, double_drop, max_word_count, attn_mode) for _ in range(n_layers)])\n",
        "        self.out = nn.Linear(d_model, out_vsz)\n",
        "        self.out.weight = self.dec_emb.embed.weight\n",
        "        self.pad_idx = pad_idx\n",
        "        \n",
        "    def forward(self, inp, out):\n",
        "        mask_in  = get_padding_mask(inp, self.pad_idx)\n",
        "        mask_out = get_output_mask (out, self.pad_idx)\n",
        "        enc,out = self.enc_emb(inp),self.dec_emb(out)\n",
        "        for enc_block in self.encoder: enc = enc_block(enc, mask_in)\n",
        "        for dec_block in self.decoder: out = dec_block(out, enc, mask_in, mask_out)\n",
        "        return self.out(out)\n",
        "    \n",
        "class NGram():\n",
        "    def __init__(self, ngram, max_n=5000): self.ngram,self.max_n = ngram,max_n\n",
        "    def __eq__(self, other):\n",
        "        if len(self.ngram) != len(other.ngram): return False\n",
        "        return np.all(np.array(self.ngram) == np.array(other.ngram))\n",
        "    def __hash__(self): return int(sum([o * self.max_n**i for i,o in enumerate(self.ngram)]))\n",
        "\n",
        "def get_grams(x, n, max_n=5000):\n",
        "    return x if n==1 else [NGram(x[i:i+n], max_n=max_n) for i in range(len(x)-n+1)]\n",
        "\n",
        "def get_correct_ngrams(pred, targ, n, max_n=5000):\n",
        "    pred_grams,targ_grams = get_grams(pred, n, max_n=max_n),get_grams(targ, n, max_n=max_n)\n",
        "    pred_cnt,targ_cnt = Counter(pred_grams),Counter(targ_grams)\n",
        "    return sum([min(c, targ_cnt[g]) for g,c in pred_cnt.items()]),len(pred_grams)\n",
        "\n",
        "class CorpusBLEU(Callback):\n",
        "    def __init__(self, vocab_sz):\n",
        "        self.vocab_sz = vocab_sz\n",
        "        self.name = 'bleu'\n",
        "    \n",
        "    def on_epoch_begin(self, **kwargs):\n",
        "        self.pred_len,self.targ_len,self.corrects,self.counts = 0,0,[0]*4,[0]*4\n",
        "    \n",
        "    def on_batch_end(self, last_output, last_target, **kwargs):\n",
        "        last_output = last_output.argmax(dim=-1)\n",
        "        for pred,targ in zip(last_output.cpu().numpy(),last_target.cpu().numpy()):\n",
        "            self.pred_len += len(pred)\n",
        "            self.targ_len += len(targ)\n",
        "            for i in range(4):\n",
        "                c,t = get_correct_ngrams(pred, targ, i+1, max_n=self.vocab_sz)\n",
        "                self.corrects[i] += c\n",
        "                self.counts[i]   += t\n",
        "    \n",
        "    def on_epoch_end(self, last_metrics, **kwargs):\n",
        "        precs = [c/t for c,t in zip(self.corrects,self.counts)]\n",
        "        len_penalty = exp(1 - self.targ_len/self.pred_len) if self.pred_len < self.targ_len else 1\n",
        "        bleu = len_penalty * ((precs[0]*precs[1]*precs[2]*precs[3]) ** 0.25)\n",
        "        return add_metrics(last_metrics, bleu)\n",
        "\n",
        "def get_predictions(learn, ds_type=DatasetType.Valid):\n",
        "    learn.model.eval()\n",
        "    inputs, targets, outputs = [],[],[]\n",
        "    with torch.no_grad():\n",
        "        for xb,yb in progress_bar(learn.dl(ds_type)):\n",
        "            out = learn.model(*xb)\n",
        "            for x,y,z in zip(xb[0].cpu(),xb[1].cpu(),out.cpu()):\n",
        "                inputs.append(learn.data.train_ds.x.reconstruct(x))\n",
        "                targets.append(learn.data.train_ds.y.reconstruct(y))\n",
        "                outputs.append(learn.data.train_ds.y.reconstruct(z.argmax(1)))\n",
        "    return inputs, targets, outputs"
      ],
      "execution_count": 0,
      "outputs": []
    },
    {
      "cell_type": "code",
      "metadata": {
        "id": "Abjk7gGXm8JI",
        "colab_type": "code",
        "outputId": "aad9f19f-0478-43f9-b7a9-bce2ed03e189",
        "colab": {
          "base_uri": "https://localhost:8080/",
          "height": 36
        }
      },
      "source": [
        "from pathlib import Path\n",
        "from fastai import *\n",
        "path = Path('/content/drive/My Drive/afrilang4/memat/data');path"
      ],
      "execution_count": 0,
      "outputs": [
        {
          "output_type": "execute_result",
          "data": {
            "text/plain": [
              "PosixPath('/content/drive/My Drive/afrilang4/memat/data')"
            ]
          },
          "metadata": {
            "tags": []
          },
          "execution_count": 3
        }
      ]
    },
    {
      "cell_type": "code",
      "metadata": {
        "id": "5MVt60S6nAhe",
        "colab_type": "code",
        "colab": {}
      },
      "source": [
        "data = load_data(path)"
      ],
      "execution_count": 0,
      "outputs": []
    },
    {
      "cell_type": "code",
      "metadata": {
        "id": "lYGJYgPct7KB",
        "colab_type": "code",
        "outputId": "cbfbe922-8c7a-4501-d0ee-5e5f5a0e5469",
        "colab": {
          "base_uri": "https://localhost:8080/",
          "height": 501
        }
      },
      "source": [
        "data.show_batch()"
      ],
      "execution_count": 0,
      "outputs": [
        {
          "output_type": "display_data",
          "data": {
            "text/html": [
              "<table border=\"1\" class=\"dataframe\">\n",
              "  <thead>\n",
              "    <tr style=\"text-align: right;\">\n",
              "      <th>text</th>\n",
              "      <th>target</th>\n",
              "    </tr>\n",
              "  </thead>\n",
              "  <tbody>\n",
              "    <tr>\n",
              "      <td>xxbos xxmaj umzekelo , umqhubi wamashumi amabini anesine samawaka eekilowadzi xxunk oqhubela phambili xxunk amabini anamashumi xxunk amawaka omlinganiselo wesantya xxunk xxunk ipetroyile sele xxunk sangqa xxunk elinesiqingatha xxunk seemitha , kwaye inobunzima obumalunga namashumi amathandathu omlinganiselo wesantya senqanawa .</td>\n",
              "      <td>xxbos xxmaj for example , the propeller for a xxunk kw propulsion plant on a xxunk tanker already has a diameter of 9.4 metres , and it weighs nearly 60 tons .</td>\n",
              "    </tr>\n",
              "    <tr>\n",
              "      <td>xxbos 1 xxmaj community xxmaj safety xxmaj barometer project 2009 / 10 , xxmaj south xxmaj african xxmaj police xxmaj annual report 2009 / 10 , xxup saps xxmaj performance xxmaj plan 2010 / 11 , xxup saps xxunk crime</td>\n",
              "      <td>xxbos 1 xxmaj community xxmaj safety xxmaj barometer project 2009 / 10 , xxmaj south xxmaj african xxmaj police xxmaj annual report 2009 / 10 , xxup saps xxmaj performance xxmaj plan 2010 / 11 , xxup saps reported crime</td>\n",
              "    </tr>\n",
              "    <tr>\n",
              "      <td>xxbos wenze iziseko zesilivere , zibe mashumi mane phantsi xxunk ezimashumi mabini : zibe zibini iziseko , phantsi kweplanga inye , zeempondlo zayo zombini ; zibe zibini iziseko , phantsi kweplanga inye , zeempondlo zayo zombini .</td>\n",
              "      <td>xxbos xxmaj you shall make forty sockets of silver under the twenty boards ; two sockets under one board for its two tenons , and two sockets under another board for its two tenons .</td>\n",
              "    </tr>\n",
              "    <tr>\n",
              "      <td>xxbos xxmaj ukutyala ukutshintsha kwindlela ( ukugoba komgca xxunk ngomoya ojikeleza umhlaba ) le nto yenzeka ingakumbi xa umbindi welanga uvela njengomgca ohamba ukusuka kwicala ukuya kwelinye udlula kumbindi wesangqa ngaphezulu komgca odibanisa isibhakabhaka nomhlaba .</td>\n",
              "      <td>xxbos xxmaj owing to refraction ( the bending of the light rays by the atmosphere ) this actually occurs when the sun 's centre appears to be about its own diameter above the horizon .</td>\n",
              "    </tr>\n",
              "    <tr>\n",
              "      <td>xxbos xxmaj ulwaphulo- mthetho olufuna xxmaj ulwaphulo - mthetho xxmaj ulwaphulo - mthetho xxmaj ulwaphulo- mthetho xxmaj ingqwalaselo : 2 xxmaj olufuna ingqwalaselo : 3 xxmaj olufuna ingqwalaselo : 4 4 xxmaj olufuna ingqwalaselo : 5</td>\n",
              "      <td>xxbos that the xxup cpf meetings need to be held more regularly for more effective service to the community</td>\n",
              "    </tr>\n",
              "  </tbody>\n",
              "</table>"
            ],
            "text/plain": [
              "<IPython.core.display.HTML object>"
            ]
          },
          "metadata": {
            "tags": []
          }
        }
      ]
    },
    {
      "cell_type": "markdown",
      "metadata": {
        "id": "h5H4_rczxDAB",
        "colab_type": "text"
      },
      "source": [
        "##Training with **Dot Product**"
      ]
    },
    {
      "cell_type": "code",
      "metadata": {
        "id": "OKzthuQUnAeU",
        "colab_type": "code",
        "colab": {}
      },
      "source": [
        "n_x_vocab,n_y_vocab = len(data.train_ds.x.vocab.itos), len(data.train_ds.y.vocab.itos)\n",
        "\n",
        "model = Transformer(n_x_vocab, n_y_vocab, d_model=256)\n",
        "learn = Learner(data, model, metrics=[accuracy, CorpusBLEU(n_y_vocab)], loss_func = CrossEntropyFlat())"
      ],
      "execution_count": 0,
      "outputs": []
    },
    {
      "cell_type": "markdown",
      "metadata": {
        "id": "DRVSLizVkh4Z",
        "colab_type": "text"
      },
      "source": [
        "###Train"
      ]
    },
    {
      "cell_type": "code",
      "metadata": {
        "id": "hJOhw2zjuE54",
        "colab_type": "code",
        "outputId": "8e3a7133-4144-495f-812b-841c5b71898c",
        "colab": {
          "base_uri": "https://localhost:8080/",
          "height": 376
        }
      },
      "source": [
        "learn.lr_find()\n",
        "learn.recorder.plot()"
      ],
      "execution_count": 0,
      "outputs": [
        {
          "output_type": "display_data",
          "data": {
            "text/html": [
              "\n",
              "    <div>\n",
              "        <style>\n",
              "            /* Turns off some styling */\n",
              "            progress {\n",
              "                /* gets rid of default border in Firefox and Opera. */\n",
              "                border: none;\n",
              "                /* Needs to be in here for Safari polyfill so background images work as expected. */\n",
              "                background-size: auto;\n",
              "            }\n",
              "            .progress-bar-interrupted, .progress-bar-interrupted::-webkit-progress-bar {\n",
              "                background: #F44336;\n",
              "            }\n",
              "        </style>\n",
              "      <progress value='0' class='' max='1' style='width:300px; height:20px; vertical-align: middle;'></progress>\n",
              "      0.00% [0/1 00:00<00:00]\n",
              "    </div>\n",
              "    \n",
              "<table border=\"1\" class=\"dataframe\">\n",
              "  <thead>\n",
              "    <tr style=\"text-align: left;\">\n",
              "      <th>epoch</th>\n",
              "      <th>train_loss</th>\n",
              "      <th>valid_loss</th>\n",
              "      <th>accuracy</th>\n",
              "      <th>bleu</th>\n",
              "      <th>time</th>\n",
              "    </tr>\n",
              "  </thead>\n",
              "  <tbody>\n",
              "  </tbody>\n",
              "</table><p>\n",
              "\n",
              "    <div>\n",
              "        <style>\n",
              "            /* Turns off some styling */\n",
              "            progress {\n",
              "                /* gets rid of default border in Firefox and Opera. */\n",
              "                border: none;\n",
              "                /* Needs to be in here for Safari polyfill so background images work as expected. */\n",
              "                background-size: auto;\n",
              "            }\n",
              "            .progress-bar-interrupted, .progress-bar-interrupted::-webkit-progress-bar {\n",
              "                background: #F44336;\n",
              "            }\n",
              "        </style>\n",
              "      <progress value='90' class='' max='1785' style='width:300px; height:20px; vertical-align: middle;'></progress>\n",
              "      5.04% [90/1785 00:11<03:44 20.9844]\n",
              "    </div>\n",
              "    "
            ],
            "text/plain": [
              "<IPython.core.display.HTML object>"
            ]
          },
          "metadata": {
            "tags": []
          }
        },
        {
          "output_type": "stream",
          "text": [
            "LR Finder is complete, type {learner_name}.recorder.plot() to see the graph.\n"
          ],
          "name": "stdout"
        },
        {
          "output_type": "display_data",
          "data": {
            "image/png": "[encoded data removed]",
            "text/plain": [
              "<Figure size 432x288 with 1 Axes>"
            ]
          },
          "metadata": {
            "tags": [],
            "needs_background": "light"
          }
        }
      ]
    },
    {
      "cell_type": "code",
      "metadata": {
        "id": "9cc8yLXVuSRU",
        "colab_type": "code",
        "outputId": "93f51a75-39d6-4bb2-a2de-3dc78c38d5c9",
        "colab": {
          "base_uri": "https://localhost:8080/",
          "height": 269
        }
      },
      "source": [
        "learn.fit_one_cycle(7, 5e-4, div_factor=5)"
      ],
      "execution_count": 0,
      "outputs": [
        {
          "output_type": "display_data",
          "data": {
            "text/html": [
              "<table border=\"1\" class=\"dataframe\">\n",
              "  <thead>\n",
              "    <tr style=\"text-align: left;\">\n",
              "      <th>epoch</th>\n",
              "      <th>train_loss</th>\n",
              "      <th>valid_loss</th>\n",
              "      <th>accuracy</th>\n",
              "      <th>bleu</th>\n",
              "      <th>time</th>\n",
              "    </tr>\n",
              "  </thead>\n",
              "  <tbody>\n",
              "    <tr>\n",
              "      <td>0</td>\n",
              "      <td>2.150355</td>\n",
              "      <td>2.444598</td>\n",
              "      <td>0.630891</td>\n",
              "      <td>0.458480</td>\n",
              "      <td>03:41</td>\n",
              "    </tr>\n",
              "    <tr>\n",
              "      <td>1</td>\n",
              "      <td>1.765127</td>\n",
              "      <td>1.984807</td>\n",
              "      <td>0.677447</td>\n",
              "      <td>0.495137</td>\n",
              "      <td>03:41</td>\n",
              "    </tr>\n",
              "    <tr>\n",
              "      <td>2</td>\n",
              "      <td>1.538007</td>\n",
              "      <td>1.754475</td>\n",
              "      <td>0.704304</td>\n",
              "      <td>0.520698</td>\n",
              "      <td>03:42</td>\n",
              "    </tr>\n",
              "    <tr>\n",
              "      <td>3</td>\n",
              "      <td>1.380166</td>\n",
              "      <td>1.613502</td>\n",
              "      <td>0.723137</td>\n",
              "      <td>0.540376</td>\n",
              "      <td>03:44</td>\n",
              "    </tr>\n",
              "    <tr>\n",
              "      <td>4</td>\n",
              "      <td>1.200720</td>\n",
              "      <td>1.551993</td>\n",
              "      <td>0.735764</td>\n",
              "      <td>0.555758</td>\n",
              "      <td>03:42</td>\n",
              "    </tr>\n",
              "    <tr>\n",
              "      <td>5</td>\n",
              "      <td>1.045485</td>\n",
              "      <td>1.537179</td>\n",
              "      <td>0.739438</td>\n",
              "      <td>0.561781</td>\n",
              "      <td>03:45</td>\n",
              "    </tr>\n",
              "    <tr>\n",
              "      <td>6</td>\n",
              "      <td>0.949996</td>\n",
              "      <td>1.547592</td>\n",
              "      <td>0.739663</td>\n",
              "      <td>0.562139</td>\n",
              "      <td>03:42</td>\n",
              "    </tr>\n",
              "  </tbody>\n",
              "</table>"
            ],
            "text/plain": [
              "<IPython.core.display.HTML object>"
            ]
          },
          "metadata": {
            "tags": []
          }
        }
      ]
    },
    {
      "cell_type": "code",
      "metadata": {
        "id": "yT4G0bNzuXIy",
        "colab_type": "code",
        "outputId": "60384601-37b8-4114-856d-633f58328c56",
        "colab": {
          "base_uri": "https://localhost:8080/",
          "height": 37
        }
      },
      "source": [
        "inputs, targets, outputs = get_predictions(learn)"
      ],
      "execution_count": 0,
      "outputs": [
        {
          "output_type": "display_data",
          "data": {
            "text/html": [
              "\n",
              "    <div>\n",
              "        <style>\n",
              "            /* Turns off some styling */\n",
              "            progress {\n",
              "                /* gets rid of default border in Firefox and Opera. */\n",
              "                border: none;\n",
              "                /* Needs to be in here for Safari polyfill so background images work as expected. */\n",
              "                background-size: auto;\n",
              "            }\n",
              "            .progress-bar-interrupted, .progress-bar-interrupted::-webkit-progress-bar {\n",
              "                background: #F44336;\n",
              "            }\n",
              "        </style>\n",
              "      <progress value='446' class='' max='446' style='width:300px; height:20px; vertical-align: middle;'></progress>\n",
              "      100.00% [446/446 00:54<00:00]\n",
              "    </div>\n",
              "    "
            ],
            "text/plain": [
              "<IPython.core.display.HTML object>"
            ]
          },
          "metadata": {
            "tags": []
          }
        }
      ]
    },
    {
      "cell_type": "code",
      "metadata": {
        "id": "_mKFLM3yuYEl",
        "colab_type": "code",
        "colab": {}
      },
      "source": [
        "learn.save(path/'trans_7')"
      ],
      "execution_count": 0,
      "outputs": []
    },
    {
      "cell_type": "code",
      "metadata": {
        "id": "oOQjaJzDgWjZ",
        "colab_type": "code",
        "colab": {}
      },
      "source": [
        "learn.recorder.plot_losses(st)"
      ],
      "execution_count": 0,
      "outputs": []
    },
    {
      "cell_type": "code",
      "metadata": {
        "id": "Ty4Edw7FupA7",
        "colab_type": "code",
        "outputId": "7c6d972a-6a1f-415a-c315-db84ee75044c",
        "colab": {
          "base_uri": "https://localhost:8080/",
          "height": 337
        }
      },
      "source": [
        "print(inputs[10],'\\n',targets[10],'\\n',outputs[10],'\\n')\n",
        "print(inputs[700],'\\n',targets[700],'\\n',outputs[700],'\\n')\n",
        "# print(inputs[701],'\\n',targets[701],'\\n',outputs[701]),'\\n')\n",
        "print(inputs[2500],'\\n',targets[2500],'\\n',outputs[2500],'\\n')\n",
        "print(inputs[4002],'\\n',targets[4002],'\\n',outputs[4002],'\\n')"
      ],
      "execution_count": 0,
      "outputs": [
        {
          "output_type": "stream",
          "text": [
            "xxbos xxmaj amanzi , ingakumbi amanzi xxunk , xxunk umbane , kwaye ukuba athe adibana nesixhobo zikanomathotholo isixhobo sokunqanda umbane xxunk xxunk kwaye xxunk eziphezulu xxunk , nto leyo enokuthi ibangele umlilo kunye nomonakalo omandundu kuzo zonke izixhobo . \n",
            " xxbos xxmaj water , especially salt water , conducts electricity , and if it reaches radio equipment the insulators will be rendered useless and the high voltages will flash over , causing burning and serious damage throughout the equipment \n",
            " xxbos xxmaj water , especially water water , is electricity , and if a is radio equipment , radio can be used by and can fire fire , cause and all which fire and damage damage to the fire . \n",
            "\n",
            "xxbos amakaledi athetha ke kukumkani xxunk , athi , xxmaj kumkani , yidla ubomi ngonaphakade ! xxmaj xxunk abakhonzi bakho iphupha elo ; xxunk ukutyhilwa kwalo . \n",
            " xxbos xxmaj then spoke the xxmaj chaldeans to the king in the xxmaj syrian language , o king , live forever : tell your servants the dream , and we will show the interpretation . \n",
            " xxbos xxmaj the the to xxmaj chaldeans , the king , the king chaldeans , , and king , eat forever ! eat your servants , dream which and what will show you interpretation of \n",
            "\n",
            "xxbos xxmaj babefuna abasebenzi abangamakhulu mane anamashumi asixhenxe ( 470 ) kuthelekiswa namakhulu amabini anamashumi amathandathu ( 260 ) ezangoku xxunk . \n",
            " xxbos xxmaj they needed a crew of xxunk compared with the 260 of the later xxmaj leanders . \n",
            " xxbos xxmaj they had forty hundred of forty tons with xxunk xxunk of about xxmaj xxmaj xxunk . \n",
            "\n",
            "xxbos xxmaj abathe , xxmaj ulwimi lwethu xxunk ; xxmaj imilomo yethu xxunk ; ngubani na xxunk kuthi ? \n",
            " xxbos who have said , \" xxmaj with our tongue we will prevail . xxmaj our lips are our own . xxmaj who is lord over us ? \" \n",
            " xxbos xxmaj , understanding , \" xxmaj our our tongue , are be . xxmaj who tongue xxunk xxunk own , xxmaj who can not , us ? \" \n",
            "\n"
          ],
          "name": "stdout"
        }
      ]
    }
  ]
}